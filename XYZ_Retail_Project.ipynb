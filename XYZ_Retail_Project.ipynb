{
 "cells": [
  {
   "cell_type": "code",
   "execution_count": 25,
   "id": "ffc0a3e7-a577-4637-a29d-7262edebbe88",
   "metadata": {},
   "outputs": [
    {
     "name": "stdout",
     "output_type": "stream",
     "text": [
      "The total units sold are: 556\n",
      "The difference between the categories are: 468\n",
      "The ratio of units sold: 11.636363636363637\n"
     ]
    }
   ],
   "source": [
    "#Task 1: Sales Data Summary\n",
    "# Objective: XYZ Retail wants to automate the process of calculating basic sales metrics.\n",
    "CategoryA = 512  \n",
    "CategoryB = 44\n",
    "Total= CategoryA + CategoryB\n",
    "Difference= CategoryA - CategoryB\n",
    "Ratio=CategoryA / CategoryB\n",
    "print(\"The total units sold are:\", Total)\n",
    "print(\"The difference between the categories are:\",Difference)\n",
    "print(\"The ratio of units sold:\",Ratio)\n"
   ]
  },
  {
   "cell_type": "code",
   "execution_count": 14,
   "id": "0fbefad5-52dc-4a5b-a35f-b07fe0fd5132",
   "metadata": {},
   "outputs": [
    {
     "name": "stdout",
     "output_type": "stream",
     "text": [
      "Dear John Doe, at 30, you’re eligible for our premium loyalty program.\n"
     ]
    }
   ],
   "source": [
    "#Task 2: Customer Age Data\n",
    "#sbjective: Understanding the age distribution of customers is crucial for marketing strategies.\n",
    "customer_name = \"John Doe\"\n",
    "age = 30\n",
    "message =(f\"Dear {customer_name}, at {age}, you’re eligible for our premium loyalty program.\")\n",
    "print(message)"
   ]
  },
  {
   "cell_type": "code",
   "execution_count": 58,
   "id": "9ae4ec7b-32e5-4908-9f22-d9c3443af419",
   "metadata": {},
   "outputs": [
    {
     "name": "stdout",
     "output_type": "stream",
     "text": [
      "500\n",
      "50\n",
      "100\n",
      "250\n",
      "300\n",
      "450\n"
     ]
    },
    {
     "data": {
      "text/plain": [
       "[100, 50, 250, 300, 450, 500]"
      ]
     },
     "execution_count": 58,
     "metadata": {},
     "output_type": "execute_result"
    }
   ],
   "source": [
    "#Task 3: Product List Management\n",
    "#Objective: Efficient management of the product list is essential for inventory control.\n",
    "#Given a list of product prices, extract the highest and lowest prices.\n",
    "product_price = [100,50, 250, 300, 450, 500]\n",
    "highest_price = max(product_price)\n",
    "lowest_price = min(product_price)\n",
    "print(highest_price)\n",
    "print(lowest_price)\n",
    "\n",
    "#Create a new list with the mid-range products.\n",
    "midrange_price_list = []\n",
    "for price in product_price:\n",
    "    if lowest_price < price < highest_price:\n",
    "        midrange_price_list.append(price)\n",
    "        print(price)\n",
    "\n",
    "#Add a new premium product price to the list and print the updated list for the inventory team.\n",
    "premium_price.insert(3,3000)\n",
    "product_price"
   ]
  },
  {
   "cell_type": "code",
   "execution_count": 9,
   "id": "569a9824-3d2b-4fd6-ae73-8010f16ea837",
   "metadata": {},
   "outputs": [
    {
     "name": "stdout",
     "output_type": "stream",
     "text": [
      "Product Name: Laptop,\n",
      " SKU: AB123\n"
     ]
    }
   ],
   "source": [
    "#Task 4: Inventory Lookup\n",
    "#Objective: Quick access to product details is important for customer service representatives.\n",
    "product_keyinformation = {\"product_name\": \"Laptop\",\"SKU\": \"AB123\",\"price\": 75000,\"category\": \"Electronics & Communication\"}\n",
    "print(f'Product Name: {product_keyinformation[\"product_name\"]},\\n SKU: {product_keyinformation[\"SKU\"]}')"
   ]
  },
  {
   "cell_type": "code",
   "execution_count": 1,
   "id": "2674a1e1-91ad-44b2-af8f-b04478e74c70",
   "metadata": {},
   "outputs": [
    {
     "name": "stdin",
     "output_type": "stream",
     "text": [
      "Enter current stock level:  21\n"
     ]
    },
    {
     "name": "stdout",
     "output_type": "stream",
     "text": [
      "Stock is sufficient\n"
     ]
    },
    {
     "name": "stdin",
     "output_type": "stream",
     "text": [
      "Enter current stock level:  15\n"
     ]
    },
    {
     "name": "stdout",
     "output_type": "stream",
     "text": [
      "Reorder Now\n"
     ]
    }
   ],
   "source": [
    "# Task 5: Stock Level Alert System\n",
    "maximum=2\n",
    "index=0\n",
    "while index<maximum:\n",
    "    stock_level = int(input(\"Enter current stock level: \"))\n",
    "    stock_1level = 20\n",
    "\n",
    "    if stock_level < stock_1level:\n",
    "        print(\"Reorder Now\")\n",
    "    else:\n",
    "        print(\"Stock is sufficient\")\n",
    "    index=index+1"
   ]
  },
  {
   "cell_type": "code",
   "execution_count": 9,
   "id": "c3b8ee3c-601e-4b9a-85d0-93de0b3fb103",
   "metadata": {},
   "outputs": [
    {
     "name": "stdout",
     "output_type": "stream",
     "text": [
      "CARS\n",
      "TYRES\n",
      "UPHOLSTERY\n",
      "CARS\n",
      "TYRES\n",
      "UPHOLSTERY\n"
     ]
    }
   ],
   "source": [
    "#Task 6: Sales Report Formatting\n",
    "#Objective: Formatting the sales data for management reports is crucial.\n",
    "#Implement both a `for` loop and a `while` loop for this task to ensure code flexibility.\n",
    "products_sold = [\"cars\", \"tyres\", \"upholstery\"]\n",
    "i=0\n",
    "while i < len(products_sold):\n",
    "    print(products_sold[i].upper())\n",
    "    i =i+ 1\n",
    "for product in products_sold:\n",
    "    print(product.upper())"
   ]
  },
  {
   "cell_type": "code",
   "execution_count": 21,
   "id": "f9e9d708-e6a2-4696-aae9-0cbabfc789cf",
   "metadata": {},
   "outputs": [
    {
     "name": "stdout",
     "output_type": "stream",
     "text": [
      "The section area is: 70000 square meters\n",
      "The section area is: 87500 square meters\n",
      "The section area is: 21600 square meters\n"
     ]
    }
   ],
   "source": [
    "#Task 7: Area Calculation for Store Layout\n",
    "#Objective: Accurate area calculations are needed to plan new store layouts.\n",
    "\n",
    "def calculate_area(length, width):\n",
    "    return length * width\n",
    "\n",
    "# Example store sections\n",
    "stored_sections = [(200, 350), (250, 350), (120, 180)]\n",
    "\n",
    "for section in stored_sections:\n",
    "    area = calculate_area(section[0], section[1])\n",
    "    print(f\"The section area is: {area} square meters\")"
   ]
  },
  {
   "cell_type": "code",
   "execution_count": 27,
   "id": "65e72fcc-0612-4c38-ba6b-f2eb0dd08d44",
   "metadata": {},
   "outputs": [
    {
     "name": "stdin",
     "output_type": "stream",
     "text": [
      "Enter customer feedback:  The service is excellent\n"
     ]
    },
    {
     "name": "stdout",
     "output_type": "stream",
     "text": [
      "Number of vowels: 8\n",
      "Reversed feedback: tnellecxe si ecivres ehT\n"
     ]
    }
   ],
   "source": [
    "#Task 8: Customer Feedback Analysis\n",
    "#Objective: Analyzing customer feedback is vital to improving service.\n",
    "def count_vowels(feedback):\n",
    "    vowels = \"aeiouAEIOU\"\n",
    "    vowel_count = 0\n",
    "    for index in feedback:\n",
    "        if index in vowels:\n",
    "            vowel_count =vowel_count+ 1\n",
    "    return vowel_count\n",
    "\n",
    "def reverse_feedback(feedback):return feedback[::-1]\n",
    "\n",
    "# Get customer feedback\n",
    "feedback_message = input(\"Enter customer feedback: \")\n",
    "\n",
    "# Count vowels\n",
    "number_vowels = count_vowels(feedback_message)\n",
    "print(f\"Number of vowels: {number_vowels}\")\n",
    "\n",
    "# Reverse feedback\n",
    "reversed_message = reverse_feedback(feedback_message)\n",
    "print(f\"Reversed feedback: {reversed_message}\")"
   ]
  },
  {
   "cell_type": "code",
   "execution_count": 29,
   "id": "50b3cfa6-a273-4744-aace-6f99536ce1b9",
   "metadata": {},
   "outputs": [
    {
     "name": "stdout",
     "output_type": "stream",
     "text": [
      "Eligible products for discount campaign: 290\n",
      "Eligible products for discount campaign: 400\n"
     ]
    }
   ],
   "source": [
    "#Task 9: Price Filtering Tool\n",
    "#Objective: Filtering product prices helps in creating targeted discounts.\n",
    "product_prices = [150,100,50,250,290,400]\n",
    "threshold_price = 250\n",
    "for price in product_prices:\n",
    "    if price > threshold_price:\n",
    "        print(\"Eligible products for discount campaign:\",price)"
   ]
  },
  {
   "cell_type": "code",
   "execution_count": 33,
   "id": "3d783b76-5588-42ce-acb0-39e2729eb426",
   "metadata": {},
   "outputs": [
    {
     "name": "stdout",
     "output_type": "stream",
     "text": [
      "The sales performance is: Total sales $1000\n",
      "THE sales performance is: 500 units sold\n"
     ]
    }
   ],
   "source": [
    "#Task 10: Sales Log File Management\n",
    "#Objective: Proper management of sales log files is necessary for compliance and audit purposes.\n",
    "with open(\"sales_log.txt\", \"w\") as salesfile:\n",
    "    salesfile.write(\"The sales performance is: Total sales $1000\\n\")\n",
    "    salesfile.write(\"THE sales performance is: 500 units sold\")\n",
    "\n",
    "# Reading the file\n",
    "with open(\"sales_log.txt\", \"r\") as salesfile:\n",
    "    print(salesfile.read())"
   ]
  },
  {
   "cell_type": "code",
   "execution_count": 43,
   "id": "e15aa4a2-d5a0-445b-9f8e-7888fb6735d6",
   "metadata": {},
   "outputs": [
    {
     "name": "stdout",
     "output_type": "stream",
     "text": [
      "The average daily sale is: 3242.86)\n"
     ]
    }
   ],
   "source": [
    "#Task 11: Daily Sales Average\n",
    "#Objective: Calculate the average daily sales for the past week.\n",
    "sales_lastweek = [1000, 2000, 3000, 5000, 1200, 4500, 6000]\n",
    "average_sales = sum(sales_lastweek) / len(sales_lastweek)\n",
    "print(f\"The average daily sale is: {average_sales:.2f})\")\n"
   ]
  },
  {
   "cell_type": "code",
   "execution_count": 45,
   "id": "70a593ff-0981-4577-81f5-426919d35bf5",
   "metadata": {},
   "outputs": [
    {
     "name": "stdout",
     "output_type": "stream",
     "text": [
      "Customer Segmentation: ['Low', 'High', 'High', 'Low', 'Medium']\n"
     ]
    }
   ],
   "source": [
    "#Task 12: Customer Segmentation\n",
    "#Objective: Categorize customers based on their total spending.\n",
    "customer_spending = [250, 3000, 2000, 500, 1000]\n",
    "\n",
    "segmented_customers = []\n",
    "for spending in customer_spending:\n",
    "    if spending < 1000:\n",
    "        segmented_customers.append(\"Low\")\n",
    "    elif spending < 2000:\n",
    "        segmented_customers.append(\"Medium\")\n",
    "    else:\n",
    "        segmented_customers.append(\"High\")\n",
    "\n",
    "print(\"Customer Segmentation:\", segmented_customers)\n",
    "\n"
   ]
  },
  {
   "cell_type": "code",
   "execution_count": 57,
   "id": "87a049eb-c743-490d-bec2-96f5be2b9d7c",
   "metadata": {},
   "outputs": [
    {
     "name": "stdout",
     "output_type": "stream",
     "text": [
      "Laptop: Original Price = 60000, Discount = 15%, Final Price = 51000.00\n",
      "Desktop: Original Price = 45000, Discount = 10%, Final Price = 40500.00\n",
      "Headphone: Original Price = 4000, Discount = 10%, Final Price = 3600.00\n",
      "Keyboard: Original Price = 1500, Discount = 20%, Final Price = 1200.00\n"
     ]
    }
   ],
   "source": [
    "#Task 13: Discount Calculation\n",
    "#Objective: Automate the calculation of discounts for a promotional campaign.\n",
    "    # Define the function to calculate the final price after discount\n",
    "def calculate_final_price(original_price, discount):\n",
    "    # Calculate the discount amount\n",
    "    discount_amount = (original_price * discount) / 100\n",
    "    # Calculate the final price after discount\n",
    "    final_price = original_price - discount_amount\n",
    "    return final_price\n",
    "\n",
    "# List of products\n",
    "products = [\n",
    "    {\"name\": \"Laptop\", \"original_price\": 60000, \"discount\": 15},\n",
    "    {\"name\": \"Desktop\", \"original_price\": 45000, \"discount\": 10},\n",
    "    {\"name\": \"Headphone\", \"original_price\": 4000, \"discount\": 10},\n",
    "    {\"name\": \"Keyboard\", \"original_price\": 1500, \"discount\": 20}\n",
    "]\n",
    "\n",
    "# Calculate and print the final prices for each product\n",
    "for product in products:\n",
    "    name = product[\"name\"]\n",
    "    original_price = product[\"original_price\"]\n",
    "    discount = product[\"discount\"]\n",
    "    final_price = calculate_final_price(original_price, discount)\n",
    "    print(f\"{name}: Original Price = {original_price}, Discount = {discount}%, Final Price = {final_price:.2f}\")\n"
   ]
  },
  {
   "cell_type": "code",
   "execution_count": 59,
   "id": "691ba7fe-9dd1-46ae-9b64-ef87818a2e0e",
   "metadata": {},
   "outputs": [
    {
     "name": "stdin",
     "output_type": "stream",
     "text": [
      "Enter customer feedback: good\n"
     ]
    },
    {
     "name": "stdout",
     "output_type": "stream",
     "text": [
      "Positive\n"
     ]
    }
   ],
   "source": [
    "#Task 14: Customer Feedback Sentiment Analysis\n",
    "#Objective: Basic sentiment analysis of customer feedback.\n",
    "positive_words = [\"good\", \"happy\", \"excellent\"]\n",
    "negative_words = [\"bad\",\"poor\",\"disappointed\" ]\n",
    "feedback = input(\"Enter customer feedback:\")\n",
    "\n",
    "if any(word in feedback.lower() for word in positive_words):\n",
    "    print(\"Positive\")\n",
    "elif any(word in feedback.lower() for word in negative_words):\n",
    "    print(\"Negative\")\n",
    "else:\n",
    "    print(\"None\")"
   ]
  },
  {
   "cell_type": "code",
   "execution_count": 61,
   "id": "164858c1-8a21-4a9c-845d-ef36225143fd",
   "metadata": {},
   "outputs": [
    {
     "name": "stdout",
     "output_type": "stream",
     "text": [
      "Anil's updated salary: 70200.0\n",
      "Rahul's updated salary: 52500.0\n"
     ]
    }
   ],
   "source": [
    "#Task 15: Employee Salary Increment Calculator\n",
    "#Objective: Calculate the salary increment for employees based on their performance rating.\n",
    "employees = {\n",
    "    \"Anil\": {\"salary\": 65000, \"performance_rating\": 4},\n",
    "    \"Rahul\": {\"salary\": 50000, \"performance_rating\": 3},\n",
    "}\n",
    "\n",
    "def calculate_increment(employee):\n",
    "    if employee[\"performance_rating\"] == 5:\n",
    "        return employee[\"salary\"] * 0.1\n",
    "    elif employee[\"performance_rating\"] == 4:\n",
    "        return employee[\"salary\"] * 0.08\n",
    "    else:\n",
    "        return employee[\"salary\"] * 0.05\n",
    "\n",
    "for name, data in employees.items():\n",
    "    increment = calculate_increment(data)\n",
    "    updated_salary = data[\"salary\"] + increment\n",
    "    print(f\"{name}'s updated salary: {updated_salary}\")\n"
   ]
  },
  {
   "cell_type": "code",
   "execution_count": 65,
   "id": "0ad54c10-679f-4806-863d-f1907d240509",
   "metadata": {},
   "outputs": [
    {
     "name": "stdout",
     "output_type": "stream",
     "text": [
      "Monthly Report generated\n"
     ]
    }
   ],
   "source": [
    "#Task 16: Monthly Sales Report Generator\n",
    "#Objective: Generate a simple text-based monthly sales report.\n",
    "daily_sales = [50, 150, 250, 300, 400, 500, 650, 700, 800, 950, 1000]\n",
    "\n",
    "# Calculate total sales and average sales\n",
    "total_sales = sum(daily_sales)\n",
    "average_sales = total_sales / len(daily_sales)\n",
    "\n",
    "# Create and write the sales report to a file\n",
    "with open(\"monthly_report.txt\", \"w\") as file:\n",
    "    file.write(f\"Monthly Sales Report\\n\")\n",
    "    file.write(f\"----------------------\\n\")\n",
    "    file.write(f\"Total Sales: {total_sales}\\n\")\n",
    "    file.write(f\"Average Sales: {average_sales:.2f}\\n\")\n",
    "\n",
    "# Notify user the report has been generated\n",
    "print(\"Monthly Report generated\")\n",
    "\n"
   ]
  },
  {
   "cell_type": "code",
   "execution_count": 71,
   "id": "ade140b2-2e2e-4411-947f-888c8746f180",
   "metadata": {},
   "outputs": [
    {
     "name": "stdout",
     "output_type": "stream",
     "text": [
      "Pen needs to be reordered\n"
     ]
    }
   ],
   "source": [
    "#Task 17: Stock Replenishment Planning\n",
    "#Objective: Determine which products need replenishment based on sales data.\n",
    "products = {\"Pen\": 50, \"scissors\": 100, \"Adhesives\": 150}\n",
    "threshold = 70\n",
    "\n",
    "for product, stock in products.items():\n",
    "    if stock < threshold:\n",
    "        print(f\"{product} needs to be reordered\")"
   ]
  },
  {
   "cell_type": "code",
   "execution_count": 73,
   "id": "0a3a7749-5c05-486f-ad3c-28f8cab63641",
   "metadata": {},
   "outputs": [
    {
     "name": "stdout",
     "output_type": "stream",
     "text": [
      "Cleaned Names: ['John Doe', 'Chaitrali Sahu']\n"
     ]
    }
   ],
   "source": [
    "#Task 18: Data Cleaning Utility\n",
    "#Objective: Create a utility to clean customer names for better data consistency.\n",
    "names = [\"  JOHN DOE \", \"  CHaitrali SaHu \"]\n",
    "\n",
    "cleaned_names = [name.strip().title() for name in names]\n",
    "print(\"Cleaned Names:\", cleaned_names)\n"
   ]
  },
  {
   "cell_type": "code",
   "execution_count": 75,
   "id": "5a9a8e8d-6616-4744-bc52-691137ef925c",
   "metadata": {},
   "outputs": [
    {
     "name": "stdout",
     "output_type": "stream",
     "text": [
      "Forecasted Sales for Next Month: 18333.33\n"
     ]
    }
   ],
   "source": [
    "#Task 19: Simple Sales Forecasting\n",
    "#Objective: Implement a basic forecasting model for next month’s sales.\n",
    "sales_last_3_months = [10000, 15000, 30000]\n",
    "forecasted_sales = sum(sales_last_3_months) / len(sales_last_3_months)\n",
    "print(f\"Forecasted Sales for Next Month: {forecasted_sales:.2f}\")\n"
   ]
  },
  {
   "cell_type": "code",
   "execution_count": 81,
   "id": "53649c8d-a7ac-44fb-b3f1-27d3ba56227c",
   "metadata": {},
   "outputs": [
    {
     "name": "stdout",
     "output_type": "stream",
     "text": [
      "Anil earned 45.0 loyalty points.\n",
      "Rahul earned 75.0 loyalty points.\n"
     ]
    }
   ],
   "source": [
    "#Task 20: Customer Loyalty Points Calculator#Objective: Calculate loyalty points for customers based on their purchases.\n",
    "#Write a code that assigns loyalty points to customers based on their total purchase amount.\n",
    "customers = {\"Anil\": 300, \"Rahul\": 500}\n",
    "def calculate_loyalty_points(amount_spent):\n",
    "    if amount_spent < 300:\n",
    "        return amount_spent * 0.1\n",
    "    elif amount_spent < 600:\n",
    "        return amount_spent * 0.15\n",
    "    else:\n",
    "        return amount_spent * 0.2\n",
    "\n",
    "for customer, amount in customers.items():\n",
    "    points = calculate_loyalty_points(amount)\n",
    "    print(f\"{customer} earned {points} loyalty points.\")\n",
    "\n"
   ]
  },
  {
   "cell_type": "code",
   "execution_count": null,
   "id": "54e81d70-e208-4f55-8241-891616704f60",
   "metadata": {},
   "outputs": [],
   "source": []
  }
 ],
 "metadata": {
  "kernelspec": {
   "display_name": "Python 3 (ipykernel)",
   "language": "python",
   "name": "python3"
  },
  "language_info": {
   "codemirror_mode": {
    "name": "ipython",
    "version": 3
   },
   "file_extension": ".py",
   "mimetype": "text/x-python",
   "name": "python",
   "nbconvert_exporter": "python",
   "pygments_lexer": "ipython3",
   "version": "3.12.4"
  }
 },
 "nbformat": 4,
 "nbformat_minor": 5
}
